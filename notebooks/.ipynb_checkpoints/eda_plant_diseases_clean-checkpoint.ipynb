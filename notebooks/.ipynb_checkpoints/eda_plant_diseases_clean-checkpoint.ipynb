{
 "cells": [
  {
   "cell_type": "markdown",
   "id": "ca343c64",
   "metadata": {},
   "source": [
    "# Plant Disease Dataset - Exploratory Data Analysis\n",
    "\n",
    "Clinical analysis of the plant disease detection dataset with comprehensive statistics and visualizations."
   ]
  },
  {
   "cell_type": "code",
   "execution_count": 1,
   "id": "61e26aa5",
   "metadata": {},
   "outputs": [
    {
     "name": "stdout",
     "output_type": "stream",
     "text": [
      "Python version: 3.11.13\n",
      "Platform: Windows-10-10.0.26100-SP0\n",
      "Project root: C:\\Users\\MadScie254\\Documents\\GitHub\\Capstone-Lazarus\n"
     ]
    }
   ],
   "source": [
    "# Bootstrap cell - setup environment and dependencies\n",
    "import sys\n",
    "import platform\n",
    "import random\n",
    "import numpy as np\n",
    "from pathlib import Path\n",
    "\n",
    "print(f\"Python version: {platform.python_version()}\")\n",
    "print(f\"Platform: {platform.platform()}\")\n",
    "\n",
    "# Set reproducible seeds\n",
    "random.seed(42)\n",
    "np.random.seed(42)\n",
    "\n",
    "# Add project root to path\n",
    "project_root = Path.cwd().parent\n",
    "sys.path.append(str(project_root))\n",
    "print(f\"Project root: {project_root}\")\n",
    "\n",
    "# Optional: Install requirements (uncomment if needed)\n",
    "# %pip install -r ../requirements.txt"
   ]
  },
  {
   "cell_type": "code",
   "execution_count": 2,
   "id": "c247c37f",
   "metadata": {},
   "outputs": [
    {
     "name": "stderr",
     "output_type": "stream",
     "text": [
      "2025-09-20 17:25:46,005 - src - INFO - CAPSTONE-LAZARUS v1.0.0 initialized\n",
      "2025-09-20 17:25:46,007 - src - INFO - Project root: C:\\Users\\MadScie254\\Documents\\GitHub\\Capstone-Lazarus\n",
      "2025-09-20 17:25:46,009 - src - INFO - Data directory: C:\\Users\\MadScie254\\Documents\\GitHub\\Capstone-Lazarus\\data\n",
      "2025-09-20 17:25:46,011 - src - INFO - Models directory: C:\\Users\\MadScie254\\Documents\\GitHub\\Capstone-Lazarus\\models\n",
      "2025-09-20 17:25:46,620 - numexpr.utils - INFO - NumExpr defaulting to 12 threads.\n"
     ]
    },
    {
     "name": "stdout",
     "output_type": "stream",
     "text": [
      "✅ All imports successful\n"
     ]
    }
   ],
   "source": [
    "# Import data utilities and visualization libraries\n",
    "from src.data_utils import PlantDiseaseDataLoader\n",
    "import pandas as pd\n",
    "import plotly.express as px\n",
    "import plotly.graph_objects as go\n",
    "from plotly.subplots import make_subplots\n",
    "import os\n",
    "\n",
    "print(\"✅ All imports successful\")"
   ]
  },
  {
   "cell_type": "code",
   "execution_count": 3,
   "id": "7a90b566",
   "metadata": {},
   "outputs": [
    {
     "name": "stdout",
     "output_type": "stream",
     "text": [
      "🔍 Computing dataset statistics...\n",
      "🔍 Scanning dataset for comprehensive statistics...\n",
      "✅ Dataset statistics complete:\n",
      "   📊 Total Images: 52,266\n",
      "   ✅ Valid Images: 52,266\n",
      "   ❌ Corrupted Images: 0\n",
      "   🏷️  Classes: 19\n",
      "   ⚖️  Imbalance Ratio: 35.24\n",
      "\n",
      "📊 Dataset Summary:\n",
      "   Total Images: 52,266\n",
      "   Valid Images: 52,266\n",
      "   Corrupted Images: 0\n",
      "   Number of Classes: 19\n",
      "   Imbalance Ratio: 35.24\n",
      "   Mean Image Shape: (256, 256)\n"
     ]
    }
   ],
   "source": [
    "# Initialize data loader and compute comprehensive statistics\n",
    "data_path = \"../data\"\n",
    "loader = PlantDiseaseDataLoader(data_path)\n",
    "\n",
    "print(\"🔍 Computing dataset statistics...\")\n",
    "stats = loader.get_dataset_stats(compute_image_shape=True, sample_max=500)\n",
    "\n",
    "print(f\"\\n📊 Dataset Summary:\")\n",
    "print(f\"   Total Images: {stats['total_images']:,}\")\n",
    "print(f\"   Valid Images: {stats['valid_images']:,}\")\n",
    "print(f\"   Corrupted Images: {stats['corrupted_images']:,}\")\n",
    "print(f\"   Number of Classes: {stats['num_classes']}\")\n",
    "print(f\"   Imbalance Ratio: {stats['imbalance_ratio']:.2f}\")\n",
    "if stats['mean_image_shape']:\n",
    "    print(f\"   Mean Image Shape: {stats['mean_image_shape']}\")"
   ]
  },
  {
   "cell_type": "code",
   "execution_count": null,
   "id": "a79258ec",
   "metadata": {},
   "outputs": [],
   "source": [
    "# Display the dataset DataFrame\n",
    "df = stats['dataframe']\n",
    "print(f\"📋 Dataset DataFrame ({len(df)} rows):\")\n",
    "display(df.head(10))\n",
    "\n",
    "print(f\"\\n📈 DataFrame Info:\")\n",
    "print(df.info())\n",
    "\n",
    "print(f\"\\n🎯 Class Distribution:\")\n",
    "class_summary = df['class_name'].value_counts()\n",
    "display(class_summary)"
   ]
  },
  {
   "cell_type": "code",
   "execution_count": null,
   "id": "6fdd6f15",
   "metadata": {},
   "outputs": [],
   "source": [
    "# Create interactive class distribution visualization\n",
    "class_counts = stats['class_distribution']\n",
    "\n",
    "# Sort by count for better visualization\n",
    "sorted_classes = dict(sorted(class_counts.items(), key=lambda x: x[1], reverse=True))\n",
    "\n",
    "# Create bar chart\n",
    "fig = px.bar(\n",
    "    x=list(sorted_classes.keys()),\n",
    "    y=list(sorted_classes.values()),\n",
    "    title=\"🌱 Plant Disease Class Distribution\",\n",
    "    labels={'x': 'Disease Classes', 'y': 'Number of Images'},\n",
    "    color=list(sorted_classes.values()),\n",
    "    color_continuous_scale='viridis'\n",
    ")\n",
    "\n",
    "fig.update_layout(\n",
    "    height=600,\n",
    "    xaxis_tickangle=45,\n",
    "    showlegend=False\n",
    ")\n",
    "\n",
    "fig.show()"
   ]
  },
  {
   "cell_type": "code",
   "execution_count": null,
   "id": "a0e35976",
   "metadata": {},
   "outputs": [],
   "source": [
    "# Export visualization to reports directory\n",
    "reports_dir = Path(\"../reports\")\n",
    "reports_dir.mkdir(exist_ok=True)\n",
    "\n",
    "output_path = reports_dir / \"eda_class_distribution.html\"\n",
    "fig.write_html(str(output_path))\n",
    "\n",
    "print(f\"📁 Visualization saved to: {output_path}\")\n",
    "print(f\"✅ EDA analysis complete!\")"
   ]
  }
 ],
 "metadata": {
  "kernelspec": {
   "display_name": "Python 3 (ipykernel)",
   "language": "python",
   "name": "python3"
  },
  "language_info": {
   "codemirror_mode": {
    "name": "ipython",
    "version": 3
   },
   "file_extension": ".py",
   "mimetype": "text/x-python",
   "name": "python",
   "nbconvert_exporter": "python",
   "pygments_lexer": "ipython3",
   "version": "3.11.13"
  }
 },
 "nbformat": 4,
 "nbformat_minor": 5
}
