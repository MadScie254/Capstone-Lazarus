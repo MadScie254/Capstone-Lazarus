{
 "cells": [
  {
   "cell_type": "markdown",
   "id": "ca343c64",
   "metadata": {},
   "source": [
    "# Plant Disease Dataset - Exploratory Data Analysis\n",
    "\n",
    "Clinical analysis of the plant disease detection dataset with comprehensive statistics and visualizations."
   ]
  },
  {
   "cell_type": "code",
   "execution_count": 1,
   "id": "61e26aa5",
   "metadata": {},
   "outputs": [
    {
     "name": "stdout",
     "output_type": "stream",
     "text": [
      "Python version: 3.11.13\n",
      "Platform: Windows-10-10.0.26100-SP0\n",
      "Project root: C:\\Users\\MadScie254\\Documents\\GitHub\\Capstone-Lazarus\n"
     ]
    }
   ],
   "source": [
    "# Bootstrap cell - setup environment and dependencies\n",
    "import sys\n",
    "import platform\n",
    "import random\n",
    "import numpy as np\n",
    "from pathlib import Path\n",
    "\n",
    "print(f\"Python version: {platform.python_version()}\")\n",
    "print(f\"Platform: {platform.platform()}\")\n",
    "\n",
    "# Set reproducible seeds\n",
    "random.seed(42)\n",
    "np.random.seed(42)\n",
    "\n",
    "# Add project root to path\n",
    "project_root = Path.cwd().parent\n",
    "sys.path.append(str(project_root))\n",
    "print(f\"Project root: {project_root}\")\n",
    "\n",
    "# Optional: Install requirements (uncomment if needed)\n",
    "# %pip install -r ../requirements.txt"
   ]
  },
  {
   "cell_type": "code",
   "execution_count": 2,
   "id": "c247c37f",
   "metadata": {},
   "outputs": [
    {
     "name": "stderr",
     "output_type": "stream",
     "text": [
      "2025-09-20 17:25:46,005 - src - INFO - CAPSTONE-LAZARUS v1.0.0 initialized\n",
      "2025-09-20 17:25:46,007 - src - INFO - Project root: C:\\Users\\MadScie254\\Documents\\GitHub\\Capstone-Lazarus\n",
      "2025-09-20 17:25:46,009 - src - INFO - Data directory: C:\\Users\\MadScie254\\Documents\\GitHub\\Capstone-Lazarus\\data\n",
      "2025-09-20 17:25:46,011 - src - INFO - Models directory: C:\\Users\\MadScie254\\Documents\\GitHub\\Capstone-Lazarus\\models\n",
      "2025-09-20 17:25:46,620 - numexpr.utils - INFO - NumExpr defaulting to 12 threads.\n"
     ]
    },
    {
     "name": "stdout",
     "output_type": "stream",
     "text": [
      "✅ All imports successful\n"
     ]
    }
   ],
   "source": [
    "# Import data utilities and visualization libraries\n",
    "from src.data_utils import PlantDiseaseDataLoader\n",
    "import pandas as pd\n",
    "import plotly.express as px\n",
    "import plotly.graph_objects as go\n",
    "from plotly.subplots import make_subplots\n",
    "import os\n",
    "\n",
    "print(\"✅ All imports successful\")"
   ]
  },
  {
   "cell_type": "code",
   "execution_count": 3,
   "id": "7a90b566",
   "metadata": {},
   "outputs": [
    {
     "name": "stdout",
     "output_type": "stream",
     "text": [
      "🔍 Computing dataset statistics...\n",
      "🔍 Scanning dataset for comprehensive statistics...\n",
      "✅ Dataset statistics complete:\n",
      "   📊 Total Images: 52,266\n",
      "   ✅ Valid Images: 52,266\n",
      "   ❌ Corrupted Images: 0\n",
      "   🏷️  Classes: 19\n",
      "   ⚖️  Imbalance Ratio: 35.24\n",
      "\n",
      "📊 Dataset Summary:\n",
      "   Total Images: 52,266\n",
      "   Valid Images: 52,266\n",
      "   Corrupted Images: 0\n",
      "   Number of Classes: 19\n",
      "   Imbalance Ratio: 35.24\n",
      "   Mean Image Shape: (256, 256)\n"
     ]
    }
   ],
   "source": [
    "# Initialize data loader and compute comprehensive statistics\n",
    "data_path = \"../data\"\n",
    "loader = PlantDiseaseDataLoader(data_path)\n",
    "\n",
    "print(\"🔍 Computing dataset statistics...\")\n",
    "stats = loader.get_dataset_stats(compute_image_shape=True, sample_max=500)\n",
    "\n",
    "print(f\"\\n📊 Dataset Summary:\")\n",
    "print(f\"   Total Images: {stats['total_images']:,}\")\n",
    "print(f\"   Valid Images: {stats['valid_images']:,}\")\n",
    "print(f\"   Corrupted Images: {stats['corrupted_images']:,}\")\n",
    "print(f\"   Number of Classes: {stats['num_classes']}\")\n",
    "print(f\"   Imbalance Ratio: {stats['imbalance_ratio']:.2f}\")\n",
    "if stats['mean_image_shape']:\n",
    "    print(f\"   Mean Image Shape: {stats['mean_image_shape']}\")"
   ]
  },
  {
   "cell_type": "code",
   "execution_count": 4,
   "id": "a79258ec",
   "metadata": {},
   "outputs": [
    {
     "name": "stdout",
     "output_type": "stream",
     "text": [
      "📋 Dataset DataFrame (52266 rows):\n"
     ]
    },
    {
     "data": {
      "text/html": [
       "<div>\n",
       "<style scoped>\n",
       "    .dataframe tbody tr th:only-of-type {\n",
       "        vertical-align: middle;\n",
       "    }\n",
       "\n",
       "    .dataframe tbody tr th {\n",
       "        vertical-align: top;\n",
       "    }\n",
       "\n",
       "    .dataframe thead th {\n",
       "        text-align: right;\n",
       "    }\n",
       "</style>\n",
       "<table border=\"1\" class=\"dataframe\">\n",
       "  <thead>\n",
       "    <tr style=\"text-align: right;\">\n",
       "      <th></th>\n",
       "      <th>image_path</th>\n",
       "      <th>class_name</th>\n",
       "      <th>width</th>\n",
       "      <th>height</th>\n",
       "      <th>file_size</th>\n",
       "    </tr>\n",
       "  </thead>\n",
       "  <tbody>\n",
       "    <tr>\n",
       "      <th>0</th>\n",
       "      <td>..\\data\\Corn_(maize)___Cercospora_leaf_spot Gr...</td>\n",
       "      <td>Corn_(maize)___Cercospora_leaf_spot Gray_leaf_...</td>\n",
       "      <td>256</td>\n",
       "      <td>256</td>\n",
       "      <td>17604</td>\n",
       "    </tr>\n",
       "    <tr>\n",
       "      <th>1</th>\n",
       "      <td>..\\data\\Corn_(maize)___Cercospora_leaf_spot Gr...</td>\n",
       "      <td>Corn_(maize)___Cercospora_leaf_spot Gray_leaf_...</td>\n",
       "      <td>256</td>\n",
       "      <td>256</td>\n",
       "      <td>15428</td>\n",
       "    </tr>\n",
       "    <tr>\n",
       "      <th>2</th>\n",
       "      <td>..\\data\\Corn_(maize)___Cercospora_leaf_spot Gr...</td>\n",
       "      <td>Corn_(maize)___Cercospora_leaf_spot Gray_leaf_...</td>\n",
       "      <td>256</td>\n",
       "      <td>256</td>\n",
       "      <td>16398</td>\n",
       "    </tr>\n",
       "    <tr>\n",
       "      <th>3</th>\n",
       "      <td>..\\data\\Corn_(maize)___Cercospora_leaf_spot Gr...</td>\n",
       "      <td>Corn_(maize)___Cercospora_leaf_spot Gray_leaf_...</td>\n",
       "      <td>256</td>\n",
       "      <td>256</td>\n",
       "      <td>10418</td>\n",
       "    </tr>\n",
       "    <tr>\n",
       "      <th>4</th>\n",
       "      <td>..\\data\\Corn_(maize)___Cercospora_leaf_spot Gr...</td>\n",
       "      <td>Corn_(maize)___Cercospora_leaf_spot Gray_leaf_...</td>\n",
       "      <td>256</td>\n",
       "      <td>256</td>\n",
       "      <td>15050</td>\n",
       "    </tr>\n",
       "    <tr>\n",
       "      <th>5</th>\n",
       "      <td>..\\data\\Corn_(maize)___Cercospora_leaf_spot Gr...</td>\n",
       "      <td>Corn_(maize)___Cercospora_leaf_spot Gray_leaf_...</td>\n",
       "      <td>256</td>\n",
       "      <td>256</td>\n",
       "      <td>10819</td>\n",
       "    </tr>\n",
       "    <tr>\n",
       "      <th>6</th>\n",
       "      <td>..\\data\\Corn_(maize)___Cercospora_leaf_spot Gr...</td>\n",
       "      <td>Corn_(maize)___Cercospora_leaf_spot Gray_leaf_...</td>\n",
       "      <td>256</td>\n",
       "      <td>256</td>\n",
       "      <td>16253</td>\n",
       "    </tr>\n",
       "    <tr>\n",
       "      <th>7</th>\n",
       "      <td>..\\data\\Corn_(maize)___Cercospora_leaf_spot Gr...</td>\n",
       "      <td>Corn_(maize)___Cercospora_leaf_spot Gray_leaf_...</td>\n",
       "      <td>256</td>\n",
       "      <td>256</td>\n",
       "      <td>19229</td>\n",
       "    </tr>\n",
       "    <tr>\n",
       "      <th>8</th>\n",
       "      <td>..\\data\\Corn_(maize)___Cercospora_leaf_spot Gr...</td>\n",
       "      <td>Corn_(maize)___Cercospora_leaf_spot Gray_leaf_...</td>\n",
       "      <td>256</td>\n",
       "      <td>256</td>\n",
       "      <td>19982</td>\n",
       "    </tr>\n",
       "    <tr>\n",
       "      <th>9</th>\n",
       "      <td>..\\data\\Corn_(maize)___Cercospora_leaf_spot Gr...</td>\n",
       "      <td>Corn_(maize)___Cercospora_leaf_spot Gray_leaf_...</td>\n",
       "      <td>256</td>\n",
       "      <td>256</td>\n",
       "      <td>14718</td>\n",
       "    </tr>\n",
       "  </tbody>\n",
       "</table>\n",
       "</div>"
      ],
      "text/plain": [
       "                                          image_path  \\\n",
       "0  ..\\data\\Corn_(maize)___Cercospora_leaf_spot Gr...   \n",
       "1  ..\\data\\Corn_(maize)___Cercospora_leaf_spot Gr...   \n",
       "2  ..\\data\\Corn_(maize)___Cercospora_leaf_spot Gr...   \n",
       "3  ..\\data\\Corn_(maize)___Cercospora_leaf_spot Gr...   \n",
       "4  ..\\data\\Corn_(maize)___Cercospora_leaf_spot Gr...   \n",
       "5  ..\\data\\Corn_(maize)___Cercospora_leaf_spot Gr...   \n",
       "6  ..\\data\\Corn_(maize)___Cercospora_leaf_spot Gr...   \n",
       "7  ..\\data\\Corn_(maize)___Cercospora_leaf_spot Gr...   \n",
       "8  ..\\data\\Corn_(maize)___Cercospora_leaf_spot Gr...   \n",
       "9  ..\\data\\Corn_(maize)___Cercospora_leaf_spot Gr...   \n",
       "\n",
       "                                          class_name  width  height  file_size  \n",
       "0  Corn_(maize)___Cercospora_leaf_spot Gray_leaf_...    256     256      17604  \n",
       "1  Corn_(maize)___Cercospora_leaf_spot Gray_leaf_...    256     256      15428  \n",
       "2  Corn_(maize)___Cercospora_leaf_spot Gray_leaf_...    256     256      16398  \n",
       "3  Corn_(maize)___Cercospora_leaf_spot Gray_leaf_...    256     256      10418  \n",
       "4  Corn_(maize)___Cercospora_leaf_spot Gray_leaf_...    256     256      15050  \n",
       "5  Corn_(maize)___Cercospora_leaf_spot Gray_leaf_...    256     256      10819  \n",
       "6  Corn_(maize)___Cercospora_leaf_spot Gray_leaf_...    256     256      16253  \n",
       "7  Corn_(maize)___Cercospora_leaf_spot Gray_leaf_...    256     256      19229  \n",
       "8  Corn_(maize)___Cercospora_leaf_spot Gray_leaf_...    256     256      19982  \n",
       "9  Corn_(maize)___Cercospora_leaf_spot Gray_leaf_...    256     256      14718  "
      ]
     },
     "metadata": {},
     "output_type": "display_data"
    },
    {
     "name": "stdout",
     "output_type": "stream",
     "text": [
      "\n",
      "📈 DataFrame Info:\n",
      "<class 'pandas.core.frame.DataFrame'>\n",
      "RangeIndex: 52266 entries, 0 to 52265\n",
      "Data columns (total 5 columns):\n",
      " #   Column      Non-Null Count  Dtype \n",
      "---  ------      --------------  ----- \n",
      " 0   image_path  52266 non-null  object\n",
      " 1   class_name  52266 non-null  object\n",
      " 2   width       52266 non-null  int64 \n",
      " 3   height      52266 non-null  int64 \n",
      " 4   file_size   52266 non-null  int64 \n",
      "dtypes: int64(3), object(2)\n",
      "memory usage: 2.0+ MB\n",
      "None\n",
      "\n",
      "🎯 Class Distribution:\n"
     ]
    },
    {
     "data": {
      "text/plain": [
       "class_name\n",
       "Tomato___Tomato_Yellow_Leaf_Curl_Virus                10714\n",
       "Tomato___Bacterial_spot                                4254\n",
       "Tomato___Late_blight                                   3816\n",
       "Tomato___Septoria_leaf_spot                            3542\n",
       "Tomato___Spider_mites Two-spotted_spider_mite          3352\n",
       "Tomato___healthy                                       3182\n",
       "Tomato___Target_Spot                                   2808\n",
       "Corn_(maize)___Common_rust_                            2384\n",
       "Corn_(maize)___healthy                                 2324\n",
       "Tomato___Early_blight                                  2000\n",
       "Potato___Early_blight                                  2000\n",
       "Potato___Late_blight                                   2000\n",
       "Corn_(maize)___Northern_Leaf_Blight                    1970\n",
       "Corn_(maize)___Northern_Leaf_Blight_oversampled        1970\n",
       "Corn_(maize)___Northern_Leaf_Blight_undersampled       1970\n",
       "Tomato___Leaf_Mold                                     1904\n",
       "Corn_(maize)___Cercospora_leaf_spot Gray_leaf_spot     1026\n",
       "Tomato___Tomato_mosaic_virus                            746\n",
       "Potato___healthy                                        304\n",
       "Name: count, dtype: int64"
      ]
     },
     "metadata": {},
     "output_type": "display_data"
    }
   ],
   "source": [
    "# Display the dataset DataFrame\n",
    "df = stats['dataframe']\n",
    "print(f\"📋 Dataset DataFrame ({len(df)} rows):\")\n",
    "display(df.head(10))\n",
    "\n",
    "print(f\"\\n📈 DataFrame Info:\")\n",
    "print(df.info())\n",
    "\n",
    "print(f\"\\n🎯 Class Distribution:\")\n",
    "class_summary = df['class_name'].value_counts()\n",
    "display(class_summary)"
   ]
  },
  {
   "cell_type": "code",
   "execution_count": 5,
   "id": "6fdd6f15",
   "metadata": {},
   "outputs": [
    {
     "data": {
      "application/vnd.plotly.v1+json": {
       "config": {
        "plotlyServerURL": "https://plot.ly"
       },
       "data": [
        {
         "hovertemplate": "Disease Classes=%{x}<br>Number of Images=%{y}<br>color=%{marker.color}<extra></extra>",
         "legendgroup": "",
         "marker": {
          "color": {
           "bdata": "2imeEOgO1g0YDW4M+ApQCRQJ0AfQB9AHsgeyB7IHcAcCBOoCMAE=",
           "dtype": "i2"
          },
          "coloraxis": "coloraxis",
          "pattern": {
           "shape": ""
          }
         },
         "name": "",
         "orientation": "v",
         "showlegend": false,
         "textposition": "auto",
         "type": "bar",
         "x": [
          "Tomato___Tomato_Yellow_Leaf_Curl_Virus",
          "Tomato___Bacterial_spot",
          "Tomato___Late_blight",
          "Tomato___Septoria_leaf_spot",
          "Tomato___Spider_mites Two-spotted_spider_mite",
          "Tomato___healthy",
          "Tomato___Target_Spot",
          "Corn_(maize)___Common_rust_",
          "Corn_(maize)___healthy",
          "Potato___Early_blight",
          "Potato___Late_blight",
          "Tomato___Early_blight",
          "Corn_(maize)___Northern_Leaf_Blight",
          "Corn_(maize)___Northern_Leaf_Blight_oversampled",
          "Corn_(maize)___Northern_Leaf_Blight_undersampled",
          "Tomato___Leaf_Mold",
          "Corn_(maize)___Cercospora_leaf_spot Gray_leaf_spot",
          "Tomato___Tomato_mosaic_virus",
          "Potato___healthy"
         ],
         "xaxis": "x",
         "y": {
          "bdata": "2imeEOgO1g0YDW4M+ApQCRQJ0AfQB9AHsgeyB7IHcAcCBOoCMAE=",
          "dtype": "i2"
         },
         "yaxis": "y"
        }
       ],
       "layout": {
        "barmode": "relative",
        "coloraxis": {
         "colorbar": {
          "title": {
           "text": "color"
          }
         },
         "colorscale": [
          [
           0,
           "#440154"
          ],
          [
           0.1111111111111111,
           "#482878"
          ],
          [
           0.2222222222222222,
           "#3e4989"
          ],
          [
           0.3333333333333333,
           "#31688e"
          ],
          [
           0.4444444444444444,
           "#26828e"
          ],
          [
           0.5555555555555556,
           "#1f9e89"
          ],
          [
           0.6666666666666666,
           "#35b779"
          ],
          [
           0.7777777777777778,
           "#6ece58"
          ],
          [
           0.8888888888888888,
           "#b5de2b"
          ],
          [
           1,
           "#fde725"
          ]
         ]
        },
        "height": 600,
        "legend": {
         "tracegroupgap": 0
        },
        "showlegend": false,
        "template": {
         "data": {
          "bar": [
           {
            "error_x": {
             "color": "#2a3f5f"
            },
            "error_y": {
             "color": "#2a3f5f"
            },
            "marker": {
             "line": {
              "color": "#E5ECF6",
              "width": 0.5
             },
             "pattern": {
              "fillmode": "overlay",
              "size": 10,
              "solidity": 0.2
             }
            },
            "type": "bar"
           }
          ],
          "barpolar": [
           {
            "marker": {
             "line": {
              "color": "#E5ECF6",
              "width": 0.5
             },
             "pattern": {
              "fillmode": "overlay",
              "size": 10,
              "solidity": 0.2
             }
            },
            "type": "barpolar"
           }
          ],
          "carpet": [
           {
            "aaxis": {
             "endlinecolor": "#2a3f5f",
             "gridcolor": "white",
             "linecolor": "white",
             "minorgridcolor": "white",
             "startlinecolor": "#2a3f5f"
            },
            "baxis": {
             "endlinecolor": "#2a3f5f",
             "gridcolor": "white",
             "linecolor": "white",
             "minorgridcolor": "white",
             "startlinecolor": "#2a3f5f"
            },
            "type": "carpet"
           }
          ],
          "choropleth": [
           {
            "colorbar": {
             "outlinewidth": 0,
             "ticks": ""
            },
            "type": "choropleth"
           }
          ],
          "contour": [
           {
            "colorbar": {
             "outlinewidth": 0,
             "ticks": ""
            },
            "colorscale": [
             [
              0,
              "#0d0887"
             ],
             [
              0.1111111111111111,
              "#46039f"
             ],
             [
              0.2222222222222222,
              "#7201a8"
             ],
             [
              0.3333333333333333,
              "#9c179e"
             ],
             [
              0.4444444444444444,
              "#bd3786"
             ],
             [
              0.5555555555555556,
              "#d8576b"
             ],
             [
              0.6666666666666666,
              "#ed7953"
             ],
             [
              0.7777777777777778,
              "#fb9f3a"
             ],
             [
              0.8888888888888888,
              "#fdca26"
             ],
             [
              1,
              "#f0f921"
             ]
            ],
            "type": "contour"
           }
          ],
          "contourcarpet": [
           {
            "colorbar": {
             "outlinewidth": 0,
             "ticks": ""
            },
            "type": "contourcarpet"
           }
          ],
          "heatmap": [
           {
            "colorbar": {
             "outlinewidth": 0,
             "ticks": ""
            },
            "colorscale": [
             [
              0,
              "#0d0887"
             ],
             [
              0.1111111111111111,
              "#46039f"
             ],
             [
              0.2222222222222222,
              "#7201a8"
             ],
             [
              0.3333333333333333,
              "#9c179e"
             ],
             [
              0.4444444444444444,
              "#bd3786"
             ],
             [
              0.5555555555555556,
              "#d8576b"
             ],
             [
              0.6666666666666666,
              "#ed7953"
             ],
             [
              0.7777777777777778,
              "#fb9f3a"
             ],
             [
              0.8888888888888888,
              "#fdca26"
             ],
             [
              1,
              "#f0f921"
             ]
            ],
            "type": "heatmap"
           }
          ],
          "histogram": [
           {
            "marker": {
             "pattern": {
              "fillmode": "overlay",
              "size": 10,
              "solidity": 0.2
             }
            },
            "type": "histogram"
           }
          ],
          "histogram2d": [
           {
            "colorbar": {
             "outlinewidth": 0,
             "ticks": ""
            },
            "colorscale": [
             [
              0,
              "#0d0887"
             ],
             [
              0.1111111111111111,
              "#46039f"
             ],
             [
              0.2222222222222222,
              "#7201a8"
             ],
             [
              0.3333333333333333,
              "#9c179e"
             ],
             [
              0.4444444444444444,
              "#bd3786"
             ],
             [
              0.5555555555555556,
              "#d8576b"
             ],
             [
              0.6666666666666666,
              "#ed7953"
             ],
             [
              0.7777777777777778,
              "#fb9f3a"
             ],
             [
              0.8888888888888888,
              "#fdca26"
             ],
             [
              1,
              "#f0f921"
             ]
            ],
            "type": "histogram2d"
           }
          ],
          "histogram2dcontour": [
           {
            "colorbar": {
             "outlinewidth": 0,
             "ticks": ""
            },
            "colorscale": [
             [
              0,
              "#0d0887"
             ],
             [
              0.1111111111111111,
              "#46039f"
             ],
             [
              0.2222222222222222,
              "#7201a8"
             ],
             [
              0.3333333333333333,
              "#9c179e"
             ],
             [
              0.4444444444444444,
              "#bd3786"
             ],
             [
              0.5555555555555556,
              "#d8576b"
             ],
             [
              0.6666666666666666,
              "#ed7953"
             ],
             [
              0.7777777777777778,
              "#fb9f3a"
             ],
             [
              0.8888888888888888,
              "#fdca26"
             ],
             [
              1,
              "#f0f921"
             ]
            ],
            "type": "histogram2dcontour"
           }
          ],
          "mesh3d": [
           {
            "colorbar": {
             "outlinewidth": 0,
             "ticks": ""
            },
            "type": "mesh3d"
           }
          ],
          "parcoords": [
           {
            "line": {
             "colorbar": {
              "outlinewidth": 0,
              "ticks": ""
             }
            },
            "type": "parcoords"
           }
          ],
          "pie": [
           {
            "automargin": true,
            "type": "pie"
           }
          ],
          "scatter": [
           {
            "fillpattern": {
             "fillmode": "overlay",
             "size": 10,
             "solidity": 0.2
            },
            "type": "scatter"
           }
          ],
          "scatter3d": [
           {
            "line": {
             "colorbar": {
              "outlinewidth": 0,
              "ticks": ""
             }
            },
            "marker": {
             "colorbar": {
              "outlinewidth": 0,
              "ticks": ""
             }
            },
            "type": "scatter3d"
           }
          ],
          "scattercarpet": [
           {
            "marker": {
             "colorbar": {
              "outlinewidth": 0,
              "ticks": ""
             }
            },
            "type": "scattercarpet"
           }
          ],
          "scattergeo": [
           {
            "marker": {
             "colorbar": {
              "outlinewidth": 0,
              "ticks": ""
             }
            },
            "type": "scattergeo"
           }
          ],
          "scattergl": [
           {
            "marker": {
             "colorbar": {
              "outlinewidth": 0,
              "ticks": ""
             }
            },
            "type": "scattergl"
           }
          ],
          "scattermap": [
           {
            "marker": {
             "colorbar": {
              "outlinewidth": 0,
              "ticks": ""
             }
            },
            "type": "scattermap"
           }
          ],
          "scattermapbox": [
           {
            "marker": {
             "colorbar": {
              "outlinewidth": 0,
              "ticks": ""
             }
            },
            "type": "scattermapbox"
           }
          ],
          "scatterpolar": [
           {
            "marker": {
             "colorbar": {
              "outlinewidth": 0,
              "ticks": ""
             }
            },
            "type": "scatterpolar"
           }
          ],
          "scatterpolargl": [
           {
            "marker": {
             "colorbar": {
              "outlinewidth": 0,
              "ticks": ""
             }
            },
            "type": "scatterpolargl"
           }
          ],
          "scatterternary": [
           {
            "marker": {
             "colorbar": {
              "outlinewidth": 0,
              "ticks": ""
             }
            },
            "type": "scatterternary"
           }
          ],
          "surface": [
           {
            "colorbar": {
             "outlinewidth": 0,
             "ticks": ""
            },
            "colorscale": [
             [
              0,
              "#0d0887"
             ],
             [
              0.1111111111111111,
              "#46039f"
             ],
             [
              0.2222222222222222,
              "#7201a8"
             ],
             [
              0.3333333333333333,
              "#9c179e"
             ],
             [
              0.4444444444444444,
              "#bd3786"
             ],
             [
              0.5555555555555556,
              "#d8576b"
             ],
             [
              0.6666666666666666,
              "#ed7953"
             ],
             [
              0.7777777777777778,
              "#fb9f3a"
             ],
             [
              0.8888888888888888,
              "#fdca26"
             ],
             [
              1,
              "#f0f921"
             ]
            ],
            "type": "surface"
           }
          ],
          "table": [
           {
            "cells": {
             "fill": {
              "color": "#EBF0F8"
             },
             "line": {
              "color": "white"
             }
            },
            "header": {
             "fill": {
              "color": "#C8D4E3"
             },
             "line": {
              "color": "white"
             }
            },
            "type": "table"
           }
          ]
         },
         "layout": {
          "annotationdefaults": {
           "arrowcolor": "#2a3f5f",
           "arrowhead": 0,
           "arrowwidth": 1
          },
          "autotypenumbers": "strict",
          "coloraxis": {
           "colorbar": {
            "outlinewidth": 0,
            "ticks": ""
           }
          },
          "colorscale": {
           "diverging": [
            [
             0,
             "#8e0152"
            ],
            [
             0.1,
             "#c51b7d"
            ],
            [
             0.2,
             "#de77ae"
            ],
            [
             0.3,
             "#f1b6da"
            ],
            [
             0.4,
             "#fde0ef"
            ],
            [
             0.5,
             "#f7f7f7"
            ],
            [
             0.6,
             "#e6f5d0"
            ],
            [
             0.7,
             "#b8e186"
            ],
            [
             0.8,
             "#7fbc41"
            ],
            [
             0.9,
             "#4d9221"
            ],
            [
             1,
             "#276419"
            ]
           ],
           "sequential": [
            [
             0,
             "#0d0887"
            ],
            [
             0.1111111111111111,
             "#46039f"
            ],
            [
             0.2222222222222222,
             "#7201a8"
            ],
            [
             0.3333333333333333,
             "#9c179e"
            ],
            [
             0.4444444444444444,
             "#bd3786"
            ],
            [
             0.5555555555555556,
             "#d8576b"
            ],
            [
             0.6666666666666666,
             "#ed7953"
            ],
            [
             0.7777777777777778,
             "#fb9f3a"
            ],
            [
             0.8888888888888888,
             "#fdca26"
            ],
            [
             1,
             "#f0f921"
            ]
           ],
           "sequentialminus": [
            [
             0,
             "#0d0887"
            ],
            [
             0.1111111111111111,
             "#46039f"
            ],
            [
             0.2222222222222222,
             "#7201a8"
            ],
            [
             0.3333333333333333,
             "#9c179e"
            ],
            [
             0.4444444444444444,
             "#bd3786"
            ],
            [
             0.5555555555555556,
             "#d8576b"
            ],
            [
             0.6666666666666666,
             "#ed7953"
            ],
            [
             0.7777777777777778,
             "#fb9f3a"
            ],
            [
             0.8888888888888888,
             "#fdca26"
            ],
            [
             1,
             "#f0f921"
            ]
           ]
          },
          "colorway": [
           "#636efa",
           "#EF553B",
           "#00cc96",
           "#ab63fa",
           "#FFA15A",
           "#19d3f3",
           "#FF6692",
           "#B6E880",
           "#FF97FF",
           "#FECB52"
          ],
          "font": {
           "color": "#2a3f5f"
          },
          "geo": {
           "bgcolor": "white",
           "lakecolor": "white",
           "landcolor": "#E5ECF6",
           "showlakes": true,
           "showland": true,
           "subunitcolor": "white"
          },
          "hoverlabel": {
           "align": "left"
          },
          "hovermode": "closest",
          "mapbox": {
           "style": "light"
          },
          "paper_bgcolor": "white",
          "plot_bgcolor": "#E5ECF6",
          "polar": {
           "angularaxis": {
            "gridcolor": "white",
            "linecolor": "white",
            "ticks": ""
           },
           "bgcolor": "#E5ECF6",
           "radialaxis": {
            "gridcolor": "white",
            "linecolor": "white",
            "ticks": ""
           }
          },
          "scene": {
           "xaxis": {
            "backgroundcolor": "#E5ECF6",
            "gridcolor": "white",
            "gridwidth": 2,
            "linecolor": "white",
            "showbackground": true,
            "ticks": "",
            "zerolinecolor": "white"
           },
           "yaxis": {
            "backgroundcolor": "#E5ECF6",
            "gridcolor": "white",
            "gridwidth": 2,
            "linecolor": "white",
            "showbackground": true,
            "ticks": "",
            "zerolinecolor": "white"
           },
           "zaxis": {
            "backgroundcolor": "#E5ECF6",
            "gridcolor": "white",
            "gridwidth": 2,
            "linecolor": "white",
            "showbackground": true,
            "ticks": "",
            "zerolinecolor": "white"
           }
          },
          "shapedefaults": {
           "line": {
            "color": "#2a3f5f"
           }
          },
          "ternary": {
           "aaxis": {
            "gridcolor": "white",
            "linecolor": "white",
            "ticks": ""
           },
           "baxis": {
            "gridcolor": "white",
            "linecolor": "white",
            "ticks": ""
           },
           "bgcolor": "#E5ECF6",
           "caxis": {
            "gridcolor": "white",
            "linecolor": "white",
            "ticks": ""
           }
          },
          "title": {
           "x": 0.05
          },
          "xaxis": {
           "automargin": true,
           "gridcolor": "white",
           "linecolor": "white",
           "ticks": "",
           "title": {
            "standoff": 15
           },
           "zerolinecolor": "white",
           "zerolinewidth": 2
          },
          "yaxis": {
           "automargin": true,
           "gridcolor": "white",
           "linecolor": "white",
           "ticks": "",
           "title": {
            "standoff": 15
           },
           "zerolinecolor": "white",
           "zerolinewidth": 2
          }
         }
        },
        "title": {
         "text": "🌱 Plant Disease Class Distribution"
        },
        "xaxis": {
         "anchor": "y",
         "domain": [
          0,
          1
         ],
         "tickangle": 45,
         "title": {
          "text": "Disease Classes"
         }
        },
        "yaxis": {
         "anchor": "x",
         "domain": [
          0,
          1
         ],
         "title": {
          "text": "Number of Images"
         }
        }
       }
      },
      "image/png": "[encoded data removed]"
     },
     "metadata": {},
     "output_type": "display_data"
    }
   ],
   "source": [
    "# Create interactive class distribution visualization\n",
    "class_counts = stats['class_distribution']\n",
    "\n",
    "# Sort by count for better visualization\n",
    "sorted_classes = dict(sorted(class_counts.items(), key=lambda x: x[1], reverse=True))\n",
    "\n",
    "# Create bar chart\n",
    "fig = px.bar(\n",
    "    x=list(sorted_classes.keys()),\n",
    "    y=list(sorted_classes.values()),\n",
    "    title=\"🌱 Plant Disease Class Distribution\",\n",
    "    labels={'x': 'Disease Classes', 'y': 'Number of Images'},\n",
    "    color=list(sorted_classes.values()),\n",
    "    color_continuous_scale='viridis'\n",
    ")\n",
    "\n",
    "fig.update_layout(\n",
    "    height=600,\n",
    "    xaxis_tickangle=45,\n",
    "    showlegend=False\n",
    ")\n",
    "\n",
    "fig.show()"
   ]
  },
  {
   "cell_type": "code",
   "execution_count": 6,
   "id": "a0e35976",
   "metadata": {},
   "outputs": [
    {
     "name": "stdout",
     "output_type": "stream",
     "text": [
      "📁 Visualization saved to: ..\\reports\\eda_class_distribution.html\n",
      "✅ EDA analysis complete!\n"
     ]
    }
   ],
   "source": [
    "# Export visualization to reports directory\n",
    "reports_dir = Path(\"../reports\")\n",
    "reports_dir.mkdir(exist_ok=True)\n",
    "\n",
    "output_path = reports_dir / \"eda_class_distribution.html\"\n",
    "fig.write_html(str(output_path))\n",
    "\n",
    "print(f\"📁 Visualization saved to: {output_path}\")\n",
    "print(f\"✅ EDA analysis complete!\")"
   ]
  },
  {
   "cell_type": "code",
   "execution_count": null,
   "id": "2a3ff609-0bfc-4680-9f1c-dcda34f07195",
   "metadata": {},
   "outputs": [],
   "source": []
  }
 ],
 "metadata": {
  "kernelspec": {
   "display_name": "Python 3 (ipykernel)",
   "language": "python",
   "name": "python3"
  },
  "language_info": {
   "codemirror_mode": {
    "name": "ipython",
    "version": 3
   },
   "file_extension": ".py",
   "mimetype": "text/x-python",
   "name": "python",
   "nbconvert_exporter": "python",
   "pygments_lexer": "ipython3",
   "version": "3.11.13"
  }
 },
 "nbformat": 4,
 "nbformat_minor": 5
}
