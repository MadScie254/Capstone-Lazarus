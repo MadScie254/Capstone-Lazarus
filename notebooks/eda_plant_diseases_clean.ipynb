{
 "cells": [
  {
   "cell_type": "markdown",
   "id": "ca343c64",
   "metadata": {},
   "source": [
    "# Plant Disease Dataset - Exploratory Data Analysis\n",
    "\n",
    "Clinical analysis of the plant disease detection dataset with comprehensive statistics and visualizations."
   ]
  },
  {
   "cell_type": "code",
   "execution_count": null,
   "id": "61e26aa5",
   "metadata": {},
   "outputs": [],
   "source": [
    "# Bootstrap cell - setup environment and dependencies\n",
    "import sys\n",
    "import platform\n",
    "import random\n",
    "import numpy as np\n",
    "from pathlib import Path\n",
    "\n",
    "print(f\"Python version: {platform.python_version()}\")\n",
    "print(f\"Platform: {platform.platform()}\")\n",
    "\n",
    "# Set reproducible seeds\n",
    "random.seed(42)\n",
    "np.random.seed(42)\n",
    "\n",
    "# Add project root to path\n",
    "project_root = Path.cwd().parent\n",
    "sys.path.append(str(project_root))\n",
    "print(f\"Project root: {project_root}\")\n",
    "\n",
    "# Optional: Install requirements (uncomment if needed)\n",
    "# %pip install -r ../requirements.txt"
   ]
  },
  {
   "cell_type": "code",
   "execution_count": null,
   "id": "c247c37f",
   "metadata": {},
   "outputs": [],
   "source": [
    "# Import data utilities and visualization libraries\n",
    "from src.data_utils import PlantDiseaseDataLoader\n",
    "import pandas as pd\n",
    "import plotly.express as px\n",
    "import plotly.graph_objects as go\n",
    "from plotly.subplots import make_subplots\n",
    "import os\n",
    "\n",
    "print(\"✅ All imports successful\")"
   ]
  },
  {
   "cell_type": "code",
   "execution_count": null,
   "id": "7a90b566",
   "metadata": {},
   "outputs": [],
   "source": [
    "# Initialize data loader and compute comprehensive statistics\n",
    "data_path = \"../data\"\n",
    "loader = PlantDiseaseDataLoader(data_path)\n",
    "\n",
    "print(\"🔍 Computing dataset statistics...\")\n",
    "stats = loader.get_dataset_stats(compute_image_shape=True, sample_max=500)\n",
    "\n",
    "print(f\"\\n📊 Dataset Summary:\")\n",
    "print(f\"   Total Images: {stats['total_images']:,}\")\n",
    "print(f\"   Valid Images: {stats['valid_images']:,}\")\n",
    "print(f\"   Corrupted Images: {stats['corrupted_images']:,}\")\n",
    "print(f\"   Number of Classes: {stats['num_classes']}\")\n",
    "print(f\"   Imbalance Ratio: {stats['imbalance_ratio']:.2f}\")\n",
    "if stats['mean_image_shape']:\n",
    "    print(f\"   Mean Image Shape: {stats['mean_image_shape']}\")"
   ]
  },
  {
   "cell_type": "code",
   "execution_count": null,
   "id": "a79258ec",
   "metadata": {},
   "outputs": [],
   "source": [
    "# Display the dataset DataFrame\n",
    "df = stats['dataframe']\n",
    "print(f\"📋 Dataset DataFrame ({len(df)} rows):\")\n",
    "display(df.head(10))\n",
    "\n",
    "print(f\"\\n📈 DataFrame Info:\")\n",
    "print(df.info())\n",
    "\n",
    "print(f\"\\n🎯 Class Distribution:\")\n",
    "class_summary = df['class_name'].value_counts()\n",
    "display(class_summary)"
   ]
  },
  {
   "cell_type": "code",
   "execution_count": null,
   "id": "6fdd6f15",
   "metadata": {},
   "outputs": [],
   "source": [
    "# Create interactive class distribution visualization\n",
    "class_counts = stats['class_distribution']\n",
    "\n",
    "# Sort by count for better visualization\n",
    "sorted_classes = dict(sorted(class_counts.items(), key=lambda x: x[1], reverse=True))\n",
    "\n",
    "# Create bar chart\n",
    "fig = px.bar(\n",
    "    x=list(sorted_classes.keys()),\n",
    "    y=list(sorted_classes.values()),\n",
    "    title=\"🌱 Plant Disease Class Distribution\",\n",
    "    labels={'x': 'Disease Classes', 'y': 'Number of Images'},\n",
    "    color=list(sorted_classes.values()),\n",
    "    color_continuous_scale='viridis'\n",
    ")\n",
    "\n",
    "fig.update_layout(\n",
    "    height=600,\n",
    "    xaxis_tickangle=45,\n",
    "    showlegend=False\n",
    ")\n",
    "\n",
    "fig.show()"
   ]
  },
  {
   "cell_type": "code",
   "execution_count": null,
   "id": "a0e35976",
   "metadata": {},
   "outputs": [],
   "source": [
    "# Export visualization to reports directory\n",
    "reports_dir = Path(\"../reports\")\n",
    "reports_dir.mkdir(exist_ok=True)\n",
    "\n",
    "output_path = reports_dir / \"eda_class_distribution.html\"\n",
    "fig.write_html(str(output_path))\n",
    "\n",
    "print(f\"📁 Visualization saved to: {output_path}\")\n",
    "print(f\"✅ EDA analysis complete!\")"
   ]
  }
 ],
 "metadata": {
  "language_info": {
   "name": "python"
  }
 },
 "nbformat": 4,
 "nbformat_minor": 5
}
